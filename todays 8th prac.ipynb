{
 "cells": [
  {
   "cell_type": "code",
   "execution_count": 3,
   "metadata": {},
   "outputs": [],
   "source": [
    "import numpy as np"
   ]
  },
  {
   "cell_type": "markdown",
   "metadata": {},
   "source": [
    "#### 1) one dimensional array a1 contain 5 numercal value"
   ]
  },
  {
   "cell_type": "code",
   "execution_count": 67,
   "metadata": {},
   "outputs": [
    {
     "name": "stdout",
     "output_type": "stream",
     "text": [
      "[ 1.   2.   3.   4.   5.5  8.   9.   7.   6.  85. ]\n"
     ]
    }
   ],
   "source": [
    "a01=[1,2,3,4,5.5,8,9,7,6,85]\n",
    "a1=np.array(a01)\n",
    "print(a1)"
   ]
  },
  {
   "cell_type": "markdown",
   "metadata": {},
   "source": [
    "#### 2) two dimensional array a2 with three rows and five column containing any numerical value\n"
   ]
  },
  {
   "cell_type": "code",
   "execution_count": 11,
   "metadata": {},
   "outputs": [
    {
     "name": "stdout",
     "output_type": "stream",
     "text": [
      "[[ 4.5 57.   8.  98.  54.4]\n",
      " [ 8.   9.   8.3 87.   9. ]\n",
      " [87.  96.  53.7  8.   5. ]]\n"
     ]
    }
   ],
   "source": [
    "r1=[4.5,57,8,98,54.4]\n",
    "r2=[8,9,8.3,87,9]\n",
    "r3=[87,96,53.7,8,5]\n",
    "a2=np.array([r1,r2,r3])\n",
    "print(a2)"
   ]
  },
  {
   "cell_type": "markdown",
   "metadata": {},
   "source": [
    "##### 3) one dimensional arrat a3 containig name of 5 cities of maharashtra\n"
   ]
  },
  {
   "cell_type": "code",
   "execution_count": 13,
   "metadata": {},
   "outputs": [
    {
     "name": "stdout",
     "output_type": "stream",
     "text": [
      "['mumbai' 'raigad' 'dhule' 'nanded' 'alibag']\n"
     ]
    }
   ],
   "source": [
    "c=['mumbai','raigad','dhule','nanded','alibag']\n",
    "a3=np.array(c)\n",
    "print(a3)"
   ]
  },
  {
   "cell_type": "markdown",
   "metadata": {},
   "source": [
    "#### 4) two dimensional array a4containing with first column name of state and capital of that state of india"
   ]
  },
  {
   "cell_type": "code",
   "execution_count": 53,
   "metadata": {},
   "outputs": [
    {
     "name": "stdout",
     "output_type": "stream",
     "text": [
      "[['maharastra' 'mumbai']\n",
      " ['Andhra Pradesh' 'Amaravati']\n",
      " ['Arunachal Pradesh' 'Itanagar']]\n"
     ]
    }
   ],
   "source": [
    "stats=['maharastra','Andhra Pradesh','Arunachal Pradesh']\n",
    "capital=['mumbai','Amaravati','Itanagar']\n",
    "a4=np.array([stats,capital])\n",
    "a45=a4.T\n",
    "print(a45)"
   ]
  },
  {
   "cell_type": "markdown",
   "metadata": {},
   "source": [
    "#### 5) display size shape dimension datatype of each of the array created"
   ]
  },
  {
   "cell_type": "code",
   "execution_count": 26,
   "metadata": {},
   "outputs": [
    {
     "name": "stdout",
     "output_type": "stream",
     "text": [
      "5\n",
      "(5,)\n",
      "1\n",
      "float64\n"
     ]
    }
   ],
   "source": [
    "#for a1\n",
    "print(a1.size)\n",
    "print(a1.shape)\n",
    "print(a1.ndim)\n",
    "print(a1.dtype)"
   ]
  },
  {
   "cell_type": "code",
   "execution_count": 27,
   "metadata": {},
   "outputs": [
    {
     "name": "stdout",
     "output_type": "stream",
     "text": [
      "15\n",
      "(3, 5)\n",
      "2\n",
      "float64\n"
     ]
    }
   ],
   "source": [
    "#for a2\n",
    "print(a2.size)\n",
    "print(a2.shape)\n",
    "print(a2.ndim)\n",
    "print(a2.dtype)"
   ]
  },
  {
   "cell_type": "code",
   "execution_count": 28,
   "metadata": {},
   "outputs": [
    {
     "name": "stdout",
     "output_type": "stream",
     "text": [
      "5\n",
      "(5,)\n",
      "1\n",
      "<U6\n"
     ]
    }
   ],
   "source": [
    "#for a3\n",
    "print(a3.size)\n",
    "print(a3.shape)\n",
    "print(a3.ndim)\n",
    "print(a3.dtype)"
   ]
  },
  {
   "cell_type": "code",
   "execution_count": 30,
   "metadata": {},
   "outputs": [
    {
     "name": "stdout",
     "output_type": "stream",
     "text": [
      "6\n",
      "(2, 3)\n",
      "2\n",
      "<U17\n"
     ]
    }
   ],
   "source": [
    "#for a4\n",
    "print(a4.size)\n",
    "print(a4.shape)\n",
    "print(a4.ndim)\n",
    "print(a4.dtype)"
   ]
  },
  {
   "cell_type": "markdown",
   "metadata": {},
   "source": [
    "#### 6) display all the arrays in the reverse order"
   ]
  },
  {
   "cell_type": "code",
   "execution_count": 34,
   "metadata": {},
   "outputs": [
    {
     "name": "stdout",
     "output_type": "stream",
     "text": [
      "[5.5 4.  3.  2.  1. ]\n",
      "[[87.  96.  53.7  8.   5. ]\n",
      " [ 8.   9.   8.3 87.   9. ]\n",
      " [ 4.5 57.   8.  98.  54.4]]\n",
      "['alibag' 'nanded' 'dhule' 'raigad' 'mumbai']\n",
      "[['mumbai' 'Amaravati' 'Itanagar']\n",
      " ['maharastra' 'Andhra Pradesh' 'Arunachal Pradesh']]\n"
     ]
    }
   ],
   "source": [
    "print(a1[::-1])#for a1\n",
    "print(a2[::-1])#for a2\n",
    "print(a3[::-1])#for a3\n",
    "print(a4[::-1])#for a4"
   ]
  },
  {
   "cell_type": "markdown",
   "metadata": {},
   "source": [
    "#### 7) display 1,2,-2,-1 element of one dimensional array"
   ]
  },
  {
   "cell_type": "code",
   "execution_count": 36,
   "metadata": {},
   "outputs": [
    {
     "name": "stdout",
     "output_type": "stream",
     "text": [
      "[ 1  2 -2 -1]\n"
     ]
    }
   ],
   "source": [
    "ar=[1,2,-2,-1]\n",
    "print(np.array(ar))"
   ]
  },
  {
   "cell_type": "markdown",
   "metadata": {},
   "source": [
    "#### 8) display second row and third row and all column of all two dimensional array created above"
   ]
  },
  {
   "cell_type": "code",
   "execution_count": 51,
   "metadata": {},
   "outputs": [
    {
     "name": "stdout",
     "output_type": "stream",
     "text": [
      "[[ 8.   9.   8.3 87.   9. ]\n",
      " [87.  96.  53.7  8.   5. ]]\n"
     ]
    }
   ],
   "source": [
    "print(a2[1:])"
   ]
  },
  {
   "cell_type": "code",
   "execution_count": 54,
   "metadata": {},
   "outputs": [
    {
     "name": "stdout",
     "output_type": "stream",
     "text": [
      "[['Andhra Pradesh' 'Amaravati']\n",
      " ['Arunachal Pradesh' 'Itanagar']]\n"
     ]
    }
   ],
   "source": [
    "print(a45[1:])"
   ]
  },
  {
   "cell_type": "markdown",
   "metadata": {},
   "source": [
    "#### 1)create an array of size 10 starting with 3 and next number increase by 2 using arange method"
   ]
  },
  {
   "cell_type": "code",
   "execution_count": 60,
   "metadata": {},
   "outputs": [
    {
     "name": "stdout",
     "output_type": "stream",
     "text": [
      "[ 3  5  7  9 11 13 15 17 19 21]\n"
     ]
    }
   ],
   "source": [
    "ar1=np.arange(3,22,2)\n",
    "print(ar1)"
   ]
  },
  {
   "cell_type": "markdown",
   "metadata": {},
   "source": [
    "#### 2)create an array of dimensional (2,5) and (5,2) using the array created above\n"
   ]
  },
  {
   "cell_type": "code",
   "execution_count": 71,
   "metadata": {},
   "outputs": [
    {
     "data": {
      "text/plain": [
       "array([[ 1. ,  2. ,  3. ,  4. ,  5.5],\n",
       "       [ 8. ,  9. ,  7. ,  6. , 85. ]])"
      ]
     },
     "execution_count": 71,
     "metadata": {},
     "output_type": "execute_result"
    }
   ],
   "source": [
    "av2=a1.reshape(2,5)\n",
    "av2"
   ]
  },
  {
   "cell_type": "code",
   "execution_count": null,
   "metadata": {},
   "outputs": [],
   "source": []
  }
 ],
 "metadata": {
  "kernelspec": {
   "display_name": "Python 3",
   "language": "python",
   "name": "python3"
  },
  "language_info": {
   "codemirror_mode": {
    "name": "ipython",
    "version": 3
   },
   "file_extension": ".py",
   "mimetype": "text/x-python",
   "name": "python",
   "nbconvert_exporter": "python",
   "pygments_lexer": "ipython3",
   "version": "3.6.5"
  }
 },
 "nbformat": 4,
 "nbformat_minor": 2
}
